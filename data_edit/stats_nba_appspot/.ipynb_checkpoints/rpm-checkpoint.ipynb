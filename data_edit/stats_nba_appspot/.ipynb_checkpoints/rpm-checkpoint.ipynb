{
 "cells": [
  {
   "cell_type": "code",
   "execution_count": 1,
   "metadata": {},
   "outputs": [
    {
     "name": "stdout",
     "output_type": "stream",
     "text": [
      "next_page: http://www.espn.com/nba/statistics/rpm/_/year/2014/page/1/sort/RPM\n",
      "next_page: http://www.espn.com/nba/statistics/rpm/_/year/2014/page/2/sort/RPM\n",
      "next_page: http://www.espn.com/nba/statistics/rpm/_/year/2014/page/3/sort/RPM\n",
      "next_page: http://www.espn.com/nba/statistics/rpm/_/year/2014/page/4/sort/RPM\n",
      "next_page: http://www.espn.com/nba/statistics/rpm/_/year/2014/page/5/sort/RPM\n",
      "next_page: http://www.espn.com/nba/statistics/rpm/_/year/2014/page/6/sort/RPM\n",
      "next_page: http://www.espn.com/nba/statistics/rpm/_/year/2014/page/7/sort/RPM\n",
      "next_page: http://www.espn.com/nba/statistics/rpm/_/year/2014/page/8/sort/RPM\n",
      "next_page: http://www.espn.com/nba/statistics/rpm/_/year/2014/page/9/sort/RPM\n",
      "next_page: http://www.espn.com/nba/statistics/rpm/_/year/2014/page/10/sort/RPM\n",
      "next_page: http://www.espn.com/nba/statistics/rpm/_/year/2014/page/11/sort/RPM\n"
     ]
    }
   ],
   "source": [
    "import pandas as pd \n",
    "from bs4 import BeautifulSoup\n",
    "import urllib\n",
    "from collections import OrderedDict\n",
    "\n",
    "def select_calss(css_class):\n",
    "    if css_class == 'oddrow' or css_class =='evenrow':\n",
    "        return css_class\n",
    "\n",
    "data = []   \n",
    "page = 'http://www.espn.com/nba/statistics/rpm/_/year/2014/sort/RPM'\n",
    "r = urllib.request.urlopen(page)\n",
    "soup = BeautifulSoup(r,'lxml')\n",
    "page_num = 1\n",
    "while(page_num != 12 ):   \n",
    "    tr = soup.find_all(class_ = select_calss)\n",
    "    for info in tr:\n",
    "        tmp = []\n",
    "        for td in info:\n",
    "            #print(td.text)\n",
    "            tmp.append(td.text)\n",
    "        result = OrderedDict()\n",
    "        result['Name'] = tmp[1]\n",
    "        result['Team'] = tmp[2]\n",
    "        result['GP'] = tmp[3]\n",
    "        result['MPG'] = tmp[4]\n",
    "        result['ORPM'] = tmp[5]\n",
    "        result['DRPM'] = tmp[6]\n",
    "        result['RPM'] = tmp[7]\n",
    "        result['WINS'] = tmp[8]        \n",
    "        data.append(result)\n",
    "    try:\n",
    "        page = 'http://www.espn.com/nba/statistics/rpm/_/year/2014/page/'+str(page_num)+'/sort/RPM'\n",
    "        print('next_page:',page)\n",
    "        r = urllib.request.urlopen(page)\n",
    "        soup = BeautifulSoup(r,'lxml')\n",
    "        page_num += 1 \n",
    "    except:\n",
    "        page_num = 12\n",
    "rpm = pd.DataFrame(data)\n",
    "rpm.to_csv('RPM.csv')\n",
    "\n"
   ]
  },
  {
   "cell_type": "code",
   "execution_count": 55,
   "metadata": {},
   "outputs": [
    {
     "data": {
      "text/plain": [
       "'//www.espn.com/nba/statistics/rpm/_/year/2014/page/2/sort/RPM'"
      ]
     },
     "execution_count": 55,
     "metadata": {},
     "output_type": "execute_result"
    }
   ],
   "source": []
  },
  {
   "cell_type": "code",
   "execution_count": null,
   "metadata": {},
   "outputs": [],
   "source": []
  },
  {
   "cell_type": "code",
   "execution_count": null,
   "metadata": {},
   "outputs": [],
   "source": []
  },
  {
   "cell_type": "code",
   "execution_count": null,
   "metadata": {},
   "outputs": [],
   "source": []
  },
  {
   "cell_type": "code",
   "execution_count": null,
   "metadata": {},
   "outputs": [],
   "source": []
  }
 ],
 "metadata": {
  "anaconda-cloud": {},
  "kernelspec": {
   "display_name": "Python [default]",
   "language": "python",
   "name": "python3"
  },
  "language_info": {
   "codemirror_mode": {
    "name": "ipython",
    "version": 3
   },
   "file_extension": ".py",
   "mimetype": "text/x-python",
   "name": "python",
   "nbconvert_exporter": "python",
   "pygments_lexer": "ipython3",
   "version": "3.5.4"
  }
 },
 "nbformat": 4,
 "nbformat_minor": 2
}
