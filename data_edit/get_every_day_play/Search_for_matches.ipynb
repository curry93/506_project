{
 "cells": [
  {
   "cell_type": "code",
   "execution_count": 20,
   "metadata": {},
   "outputs": [
    {
     "name": "stdout",
     "output_type": "stream",
     "text": [
      "/games/20171209/WASLAC\n",
      "/games/20171209/MIABKN\n",
      "/games/20171209/LALCHA\n",
      "/games/20171209/ORLATL\n",
      "/games/20171209/PHICLE\n",
      "/games/20171209/NYKCHI\n",
      "/games/20171209/UTAMIL\n",
      "/games/20171209/OKCMEM\n",
      "/games/20171209/SASPHX\n",
      "/games/20171209/HOUPOR\n"
     ]
    }
   ],
   "source": [
    "import urllib\n",
    "from bs4 import BeautifulSoup\n",
    "import pandas as pd\n",
    "from selenium import webdriver\n",
    "import requests\n",
    "\n",
    "\n",
    "url = 'http://www.nba.com/scores'\n",
    "driver = webdriver.Chrome('/Users/huangheming/Downloads/chromedriver')\n",
    "driver.get(url)\n",
    "html_source = driver.page_source\n",
    "driver.quit()\n",
    "soup = BeautifulSoup(html_source,'html.parser')\n",
    "base_url \n",
    "tag_a = soup.find_all('a',class_= 'score-tile-wrapper')\n",
    "for a in tag_a:\n",
    "    print(a['href'])"
   ]
  },
  {
   "cell_type": "code",
   "execution_count": null,
   "metadata": {},
   "outputs": [],
   "source": []
  }
 ],
 "metadata": {
  "anaconda-cloud": {},
  "kernelspec": {
   "display_name": "Python [default]",
   "language": "python",
   "name": "python3"
  },
  "language_info": {
   "codemirror_mode": {
    "name": "ipython",
    "version": 3
   },
   "file_extension": ".py",
   "mimetype": "text/x-python",
   "name": "python",
   "nbconvert_exporter": "python",
   "pygments_lexer": "ipython3",
   "version": "3.5.4"
  }
 },
 "nbformat": 4,
 "nbformat_minor": 2
}
